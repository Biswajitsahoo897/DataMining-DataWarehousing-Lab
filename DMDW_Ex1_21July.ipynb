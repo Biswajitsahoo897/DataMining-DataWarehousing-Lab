{
 "cells": [
  {
   "cell_type": "code",
   "execution_count": null,
   "metadata": {
    "colab": {
     "base_uri": "https://localhost:8080/"
    },
    "executionInfo": {
     "elapsed": 32,
     "status": "ok",
     "timestamp": 1753074090329,
     "user": {
      "displayName": "Biswajit Sahoo",
      "userId": "15038395591750581544"
     },
     "user_tz": -330
    },
    "id": "pn1viCWHV7Ka",
    "outputId": "25d8f3e7-f5fe-43d9-8d61-f10a180b8541"
   },
   "outputs": [
    {
     "name": "stdout",
     "output_type": "stream",
     "text": [
      "Hello World\n"
     ]
    }
   ],
   "source": [
    "print(\"Hello World\")"
   ]
  },
  {
   "cell_type": "markdown",
   "metadata": {
    "id": "sMlpb364WDxa"
   },
   "source": []
  },
  {
   "cell_type": "code",
   "execution_count": null,
   "metadata": {
    "colab": {
     "base_uri": "https://localhost:8080/"
    },
    "executionInfo": {
     "elapsed": 60,
     "status": "ok",
     "timestamp": 1753074682920,
     "user": {
      "displayName": "Biswajit Sahoo",
      "userId": "15038395591750581544"
     },
     "user_tz": -330
    },
    "id": "875sOuuGYoym",
    "outputId": "f93b57a0-7f57-4e13-99bd-5dd9e635edbe"
   },
   "outputs": [
    {
     "name": "stdout",
     "output_type": "stream",
     "text": [
      "['jigu', 'Abhi', 'som']\n"
     ]
    }
   ],
   "source": [
    "students=['jigu','Abhi','som']\n",
    "print(students)\n"
   ]
  },
  {
   "cell_type": "code",
   "execution_count": null,
   "metadata": {
    "colab": {
     "base_uri": "https://localhost:8080/"
    },
    "executionInfo": {
     "elapsed": 37,
     "status": "ok",
     "timestamp": 1753074684965,
     "user": {
      "displayName": "Biswajit Sahoo",
      "userId": "15038395591750581544"
     },
     "user_tz": -330
    },
    "id": "2ioYYgjVZIok",
    "outputId": "bb23e184-bb9f-493e-95bd-7caacb2579b6"
   },
   "outputs": [
    {
     "name": "stdout",
     "output_type": "stream",
     "text": [
      "Abhi\n"
     ]
    }
   ],
   "source": [
    "print(students[1])"
   ]
  },
  {
   "cell_type": "code",
   "execution_count": 1,
   "metadata": {
    "colab": {
     "base_uri": "https://localhost:8080/"
    },
    "executionInfo": {
     "elapsed": 25759,
     "status": "ok",
     "timestamp": 1753074939020,
     "user": {
      "displayName": "Biswajit Sahoo",
      "userId": "15038395591750581544"
     },
     "user_tz": -330
    },
    "id": "3ILkfAJ2ZVHC",
    "outputId": "8c34e742-c763-4b70-ce63-8f569cdd5078"
   },
   "outputs": [
    {
     "name": "stdout",
     "output_type": "stream",
     "text": [
      "Biswa\n",
      "2301020238\n",
      "CSE\n"
     ]
    }
   ],
   "source": [
    "\n",
    "name=input(\"Enter Name:\")\n",
    "regNo=int(input(\"Enter Reg:\"))\n",
    "branch=input(\"Enter branch\")\n",
    "print(name)\n",
    "print(regNo)\n",
    "print(branch)"
   ]
  },
  {
   "cell_type": "code",
   "execution_count": null,
   "metadata": {
    "colab": {
     "base_uri": "https://localhost:8080/"
    },
    "executionInfo": {
     "elapsed": 36657,
     "status": "ok",
     "timestamp": 1753076019345,
     "user": {
      "displayName": "Biswajit Sahoo",
      "userId": "15038395591750581544"
     },
     "user_tz": -330
    },
    "id": "uT8gmYDPbgnR",
    "outputId": "d9a8970c-180f-45d9-e335-02f90e23b187"
   },
   "outputs": [
    {
     "name": "stdout",
     "output_type": "stream",
     "text": [
      "Enter a list11,2,3,45,90,35\n",
      "List of integers: [1, 2, 3, 45, 90, 35]\n",
      "Enter a list22,89,4,90,35\n",
      "List of integers: [2, 89, 4, 90, 35]\n",
      "[2, 90, 35]\n"
     ]
    }
   ],
   "source": [
    "list1=input(\"Enter a list1\")\n",
    "my_list1 = [int(x) for x in list1.split(',')]\n",
    "print(\"List of list1:\", my_list1)\n",
    "list2=input(\"Enter a list2\")\n",
    "my_list2 = [int(x) for x in list2.split(',')]\n",
    "print(\"List of list2:\", my_list2)\n",
    "user_list=[]\n",
    "for i in my_list1:\n",
    "  for j in my_list2:\n",
    "    if i==j:\n",
    "      user_list.append(i)\n",
    "print(user_list)\n",
    "\n"
   ]
  },
  {
   "cell_type": "code",
   "execution_count": null,
   "metadata": {
    "colab": {
     "base_uri": "https://localhost:8080/"
    },
    "executionInfo": {
     "elapsed": 5205,
     "status": "ok",
     "timestamp": 1753077723718,
     "user": {
      "displayName": "Biswajit Sahoo",
      "userId": "15038395591750581544"
     },
     "user_tz": -330
    },
    "id": "LQjtjnOKc04B",
    "outputId": "17228928-0f05-4b2a-f496-877a5188fe82"
   },
   "outputs": [
    {
     "name": "stdout",
     "output_type": "stream",
     "text": [
      "Enter a list1: 5 4 3 2\n",
      "[25, 16, 9, 4]\n"
     ]
    }
   ],
   "source": [
    "\"\"\"\n",
    "1.1 Write a Python program that takes a list of integers as input and uses list comprehension\n",
    "to create a new list containing the squares of positive numbers from the input list.\n",
    "\"\"\"\n",
    "\n",
    "list1=input(\"Enter a list1: \").split(' ')\n",
    "square=[]\n",
    "for i in list1:\n",
    "  num=int(i)\n",
    "  if(num>0):\n",
    "    square.append(num*num)\n",
    "print(square)\n"
   ]
  },
  {
   "cell_type": "code",
   "execution_count": null,
   "metadata": {
    "colab": {
     "base_uri": "https://localhost:8080/"
    },
    "executionInfo": {
     "elapsed": 50150,
     "status": "ok",
     "timestamp": 1753078264099,
     "user": {
      "displayName": "Biswajit Sahoo",
      "userId": "15038395591750581544"
     },
     "user_tz": -330
    },
    "id": "g-Tn9fAXk4DG",
    "outputId": "909fc552-37a4-46f0-8972-a7af24bb206c"
   },
   "outputs": [
    {
     "name": "stdout",
     "output_type": "stream",
     "text": [
      "Enter a list1: 7 2 4 9 89\n",
      "Enter a list2: 90 8 7 78 90\n",
      "['7']\n"
     ]
    }
   ],
   "source": [
    "\"\"\"\n",
    "1.2Write a Python function that takes two lists as input and returns a new list containing only the elements that are common in both lists.\n",
    "\"\"\"\n",
    "list1=input(\"Enter a list1: \").split(' ')\n",
    "list2=input(\"Enter a list2: \").split(' ')\n",
    "def fun(list1,list2):\n",
    "  user_list=[]\n",
    "  for i in list1:\n",
    "    for j in list2:\n",
    "      if i==j:\n",
    "        user_list.append(i)\n",
    "  print(user_list)\n",
    "\n",
    "fun(list1,list2)\n"
   ]
  },
  {
   "cell_type": "code",
   "execution_count": 4,
   "metadata": {
    "colab": {
     "base_uri": "https://localhost:8080/"
    },
    "executionInfo": {
     "elapsed": 10320,
     "status": "ok",
     "timestamp": 1753601514255,
     "user": {
      "displayName": "Biswajit Sahoo",
      "userId": "15038395591750581544"
     },
     "user_tz": -330
    },
    "id": "h70InU__nH2R",
    "outputId": "079b77ed-8206-4ca9-b51c-b8d150dd5449"
   },
   "outputs": [
    {
     "name": "stdout",
     "output_type": "stream",
     "text": [
      "Enter a list1: 2 3 4 5 2 3 8 9 12\n",
      "New List : ['2', '3', '4', '5', '8', '9', '12']\n"
     ]
    }
   ],
   "source": [
    "\"\"\"\n",
    "1.3Write a Python function that takes a list as input\n",
    " and returns a new list with duplicate elements removed, while preserving the original order of elements.\n",
    "\"\"\"\n",
    "list1=input(\"Enter a list1: \").split(' ')\n",
    "newList=set()\n",
    "def removeduplicates(list1):\n",
    "  seen = set()\n",
    "  newList = []\n",
    "  for item in list1:\n",
    "    if item not in seen:\n",
    "      seen.add(item)\n",
    "      newList.append(item)\n",
    "  return newList\n",
    "\n",
    "print(f'New List : {removeduplicates(list1)}')\n",
    "\n"
   ]
  },
  {
   "cell_type": "code",
   "execution_count": 8,
   "metadata": {
    "colab": {
     "base_uri": "https://localhost:8080/"
    },
    "executionInfo": {
     "elapsed": 2286,
     "status": "ok",
     "timestamp": 1753609661149,
     "user": {
      "displayName": "Biswajit Sahoo",
      "userId": "15038395591750581544"
     },
     "user_tz": -330
    },
    "id": "chwxEBSLgBWQ",
    "outputId": "589c0b53-2f3c-49e2-9ba9-97eb2071e608"
   },
   "outputs": [
    {
     "name": "stdout",
     "output_type": "stream",
     "text": [
      "Enter a list Interval: 2,5\n"
     ]
    },
    {
     "data": {
      "text/plain": [
       "['4', '5', '8']"
      ]
     },
     "execution_count": 8,
     "metadata": {},
     "output_type": "execute_result"
    }
   ],
   "source": [
    "\"\"\"\n",
    "1.4 Write a Python function that takes a list of intervals as input,\n",
    "where each interval is represented as a pair of integers [start, end],\n",
    "and returns a new list of merged intervals.\n",
    "\"\"\"\n",
    "listInterval=input(\"Enter a list Interval: \").split(',')\n",
    "testList=['2', '3', '4', '5', '8', '9', '12']\n",
    "mergeList=[]\n",
    "def inputListInterval(listInterval):\n",
    "  a,b=int(listInterval[0]),int(listInterval[1])\n",
    "  for i in range(a,b):\n",
    "    mergeList.append(testList[i])\n",
    "  return mergeList\n",
    "inputListInterval(listInterval)\n",
    "\n"
   ]
  },
  {
   "cell_type": "code",
   "execution_count": 13,
   "metadata": {
    "colab": {
     "base_uri": "https://localhost:8080/"
    },
    "executionInfo": {
     "elapsed": 3165,
     "status": "ok",
     "timestamp": 1753612008768,
     "user": {
      "displayName": "Biswajit Sahoo",
      "userId": "15038395591750581544"
     },
     "user_tz": -330
    },
    "id": "iYL1GSmNSGw6",
    "outputId": "140f55d4-6477-4a1b-b8d7-ce85274da00f"
   },
   "outputs": [
    {
     "name": "stdout",
     "output_type": "stream",
     "text": [
      "Enter the target interger: 9\n"
     ]
    },
    {
     "data": {
      "text/plain": [
       "-1"
      ]
     },
     "execution_count": 13,
     "metadata": {},
     "output_type": "execute_result"
    }
   ],
   "source": [
    "\"\"\"\n",
    "1.5Write a Python function that takes a sorted list of integers and\n",
    "a target integer as input and performs binary search to find the target.\n",
    "Return the index of the target if found, or -1 if it is not present in the list.\n",
    "\"\"\"\n",
    "\n",
    "list1=[2, -4,89, 4, 67,90, 35,100]\n",
    "list1.sort()\n",
    "target=int(input(\"Enter the target interger: \"))\n",
    "def binary_sort(target,list1):\n",
    "  low=0\n",
    "  high=len(list1)-1\n",
    "  while low<=high:\n",
    "    mid=(low+high)//2\n",
    "    if list1[mid]==target:\n",
    "      return mid\n",
    "    elif list1[mid] < target:\n",
    "        low = mid + 1\n",
    "    else:\n",
    "        high = mid - 1\n",
    "  return -1\n",
    "binary_sort(target,list1)\n"
   ]
  },
  {
   "cell_type": "code",
   "execution_count": 14,
   "metadata": {
    "colab": {
     "base_uri": "https://localhost:8080/"
    },
    "executionInfo": {
     "elapsed": 44,
     "status": "ok",
     "timestamp": 1753612529472,
     "user": {
      "displayName": "Biswajit Sahoo",
      "userId": "15038395591750581544"
     },
     "user_tz": -330
    },
    "id": "bylvs4WGYYDp",
    "outputId": "714a835c-c02e-4c4e-b12f-ead0c34c0436"
   },
   "outputs": [
    {
     "name": "stdout",
     "output_type": "stream",
     "text": [
      "Original Matrix:\n",
      "[4, 6, 7]\n",
      "[1, 2, 9]\n",
      "Transposed Matrix:\n",
      "[4, 1]\n",
      "[6, 2]\n",
      "[7, 9]\n"
     ]
    }
   ],
   "source": [
    "\"\"\"\n",
    "1.6 Write a Python function that takes a 2D matrix represented as a list of lists\n",
    "and returns the transpose of the matrix.\n",
    "\"\"\"\n",
    "\n",
    "def transpose_matrix(matrix):\n",
    "    rows = len(matrix)\n",
    "    cols = len(matrix[0])\n",
    "    transpose = []\n",
    "    for j in range(cols):\n",
    "        new_row = []\n",
    "        for i in range(rows):\n",
    "            new_row.append(matrix[i][j])\n",
    "        transpose.append(new_row)\n",
    "\n",
    "    return transpose\n",
    "matrix = [\n",
    "    [4, 6, 7],\n",
    "    [1, 2, 9]\n",
    "  ]\n",
    "\n",
    "result = transpose_matrix(matrix)\n",
    "\n",
    "print(\"Original Matrix:\")\n",
    "for row in matrix:\n",
    "    print(row)\n",
    "print(\"Transposed Matrix:\")\n",
    "for row in result:\n",
    "    print(row)\n"
   ]
  },
  {
   "cell_type": "code",
   "execution_count": 19,
   "metadata": {
    "colab": {
     "base_uri": "https://localhost:8080/"
    },
    "executionInfo": {
     "elapsed": 30,
     "status": "ok",
     "timestamp": 1753612923819,
     "user": {
      "displayName": "Biswajit Sahoo",
      "userId": "15038395591750581544"
     },
     "user_tz": -330
    },
    "id": "y0HZVHRYc-wQ",
    "outputId": "f3ad5a4c-e855-4721-cca1-0f9df5bbb1a9"
   },
   "outputs": [
    {
     "name": "stdout",
     "output_type": "stream",
     "text": [
      "[[1, 2, 4, 8], [1, 11], [1, 2, 4, 8, 16], [1, 2, 3, 4, 6, 12], [1, 2, 4, 5, 10, 20]]\n"
     ]
    }
   ],
   "source": [
    "\"\"\"\n",
    "1.7 Write a python program to take 5 elements as user input and store in to a list and create a 2D list to store the factorial of the list element.\n",
    "Example:  \tInput= [8,11,16,12,20]\n",
    "Output= [ [1,2,4,8], [1,11], [1,2,4,8,16], [1,2,3,4,6,12], [1,2,4,5,10,20]  ]\n",
    "\"\"\"\n",
    "\n",
    "integers=[8,11,16,12,20]\n",
    "factors=[]\n",
    "for i in integers:\n",
    "  temp_list=[]\n",
    "  for j in range(1,i+1):\n",
    "    if i%j==0:\n",
    "      temp_list.append(j)\n",
    "  factors.append(temp_list)\n",
    "  # print(temp_list)\n",
    "\n",
    "print(factors)\n"
   ]
  },
  {
   "cell_type": "code",
   "execution_count": 26,
   "metadata": {
    "colab": {
     "base_uri": "https://localhost:8080/"
    },
    "executionInfo": {
     "elapsed": 15,
     "status": "ok",
     "timestamp": 1753613158832,
     "user": {
      "displayName": "Biswajit Sahoo",
      "userId": "15038395591750581544"
     },
     "user_tz": -330
    },
    "id": "ibjEBC2fed01",
    "outputId": "4188bb60-e58e-49b0-ff5d-68c9d81b3fbf"
   },
   "outputs": [
    {
     "name": "stdout",
     "output_type": "stream",
     "text": [
      "Students\tMarks\n",
      "Arjun\t\t91\n",
      "Ram\t\t85\n",
      "Bharat\t\t78\n"
     ]
    }
   ],
   "source": [
    "\"\"\"\n",
    "1.8 Write a program that takes a list of tuples as input. Each tuple in the list represents a student\n",
    "name and their corresponding score in a subject. Print the name with descending order of scores.\n",
    "Ex:\n",
    "Input: students = [(Ram, 85), (Bharat, 78), (Arjun, 91)]\n",
    "Output:\n",
    "Students Marks\n",
    "Arjun \t91\n",
    "Ram \t85\n",
    "Bharat \t78\n",
    "\"\"\"\n",
    "students = [(\"Ram\", 85), (\"Bharat\", 78), (\"Arjun\", 91)]\n",
    "students.sort(key=lambda x: x[1], reverse=True)\n",
    "\n",
    "print(\"Students\\tMarks\")\n",
    "for name, score in students:\n",
    "    print(f\"{name}\\t\\t{score}\")\n"
   ]
  },
  {
   "cell_type": "code",
   "execution_count": 30,
   "metadata": {
    "colab": {
     "base_uri": "https://localhost:8080/"
    },
    "executionInfo": {
     "elapsed": 6411,
     "status": "ok",
     "timestamp": 1753615973971,
     "user": {
      "displayName": "Biswajit Sahoo",
      "userId": "15038395591750581544"
     },
     "user_tz": -330
    },
    "id": "AqGfy6XFjpTj",
    "outputId": "568d1501-292e-45fe-a311-539d5d1af16e"
   },
   "outputs": [
    {
     "name": "stdout",
     "output_type": "stream",
     "text": [
      "Enter a string: data mining \n",
      "Frequency of character: {'d': 1, 'a': 2, 't': 1, 'm': 1, 'i': 2, 'n': 2, 'g': 1}\n"
     ]
    }
   ],
   "source": [
    "\"\"\"\n",
    "1.9 Write a python program to take a string as user input. Count of the letters from the string and store it in a dictionary with its frequency.\n",
    "Example: \t\tInput:  Python Programming\n",
    "Output: {‘p’:2,’y’:1,’t’:1,’h’:1,’o’:2,’n’:2,’r’:2,’a’:1,’g’:2,’m’:2,’i’:1}\n",
    "\n",
    "\"\"\"\n",
    "text = input(\"Enter a string: \").lower()\n",
    "frequency = {}\n",
    "for char in text:\n",
    "    if char.isalpha():\n",
    "        if char in frequency:\n",
    "            frequency[char] += 1\n",
    "        else:\n",
    "            frequency[char] = 1\n",
    "print(\"Frequency of character:\",frequency)\n"
   ]
  },
  {
   "cell_type": "code",
   "execution_count": 32,
   "metadata": {
    "colab": {
     "base_uri": "https://localhost:8080/"
    },
    "executionInfo": {
     "elapsed": 31910,
     "status": "ok",
     "timestamp": 1753616566293,
     "user": {
      "displayName": "Biswajit Sahoo",
      "userId": "15038395591750581544"
     },
     "user_tz": -330
    },
    "id": "OAKwNwFiqGAs",
    "outputId": "87b897a8-0aca-452e-c166-54c340d117dc"
   },
   "outputs": [
    {
     "name": "stdout",
     "output_type": "stream",
     "text": [
      "Enter the list: 1 2 3 5 10 2 33 54 61 84 1 2 \n",
      "Updated List: [1, 3, 5, 10, 33, 54, 61, 84, 1]\n"
     ]
    }
   ],
   "source": [
    "\"\"\"\n",
    "1.10 Taking a list as input and find the most repeating element and remove the most repeating element and return the list.\n",
    "Input: [4,5,7,4,4,8,7,5]\n",
    "Output: [5,7,8,7,5]\n",
    "\"\"\"\n",
    "\n",
    "input_list = list(map(int, input(\"Enter the list: \").split()))\n",
    "frequency = {}\n",
    "for num in input_list:\n",
    "    if num in frequency:\n",
    "        frequency[num] += 1\n",
    "    else:\n",
    "        frequency[num] = 1\n",
    "\n",
    "# most frequent element in the dictionary\n",
    "max_freq = max(frequency.values())\n",
    "most_frequent = None\n",
    "\n",
    "for key in frequency:\n",
    "    if frequency[key] == max_freq:\n",
    "        most_frequent = key\n",
    "        break\n",
    "result_list = [x for x in input_list if x != most_frequent]\n",
    "print(\"Updated List:\", result_list)\n"
   ]
  }
 ],
 "metadata": {
  "colab": {
   "authorship_tag": "ABX9TyPxpnnVPoXF6iVZJ87zMuvP",
   "provenance": []
  },
  "kernelspec": {
   "display_name": "Python 3",
   "name": "python3"
  },
  "language_info": {
   "codemirror_mode": {
    "name": "ipython",
    "version": 3
   },
   "file_extension": ".py",
   "mimetype": "text/x-python",
   "name": "python",
   "nbconvert_exporter": "python",
   "pygments_lexer": "ipython3",
   "version": "3.13.5"
  }
 },
 "nbformat": 4,
 "nbformat_minor": 0
}
