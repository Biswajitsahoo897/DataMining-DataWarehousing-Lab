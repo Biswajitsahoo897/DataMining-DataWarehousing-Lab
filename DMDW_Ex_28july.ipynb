{
 "cells": [
  {
   "cell_type": "markdown",
   "id": "f858f9f4",
   "metadata": {},
   "source": [
    "### Numpy"
   ]
  },
  {
   "cell_type": "code",
   "execution_count": 3,
   "id": "f2e4c08c",
   "metadata": {},
   "outputs": [
    {
     "name": "stdout",
     "output_type": "stream",
     "text": [
      "[ 2  4  6  8 10 12 14 16]\n"
     ]
    }
   ],
   "source": [
    "import numpy as np\n",
    "list_numbers=[2, 4, 6, 8, 10, 12, 14, 16]\n",
    "# 1\n",
    "res=np.array(list_numbers)\n",
    "print(res)"
   ]
  },
  {
   "cell_type": "code",
   "execution_count": 6,
   "id": "f39a9b90",
   "metadata": {},
   "outputs": [
    {
     "name": "stdout",
     "output_type": "stream",
     "text": [
      "256\n",
      "0\n",
      "256\n"
     ]
    }
   ],
   "source": [
    "n=2**8\n",
    "print(n)\n",
    "temp=0\n",
    "for i in range(1,8):\n",
    "    temp*=2*i\n",
    "print(temp)\n",
    "print(pow(2,8))\n",
    "\n"
   ]
  },
  {
   "cell_type": "code",
   "execution_count": null,
   "id": "10446443",
   "metadata": {},
   "outputs": [
    {
     "name": "stdout",
     "output_type": "stream",
     "text": [
      "5.0\n",
      "16.0\n",
      "120\n",
      "0.5253219888177297\n",
      "6\n",
      "2.0\n",
      "2.9999999999999996\n",
      "36\n",
      "20.085536923187668\n",
      "3.141592653589793\n",
      "229.1831180523293\n",
      "2.718281828459045\n",
      "63.123123\n",
      "0\n",
      "256.0\n",
      "5.0\n"
     ]
    }
   ],
   "source": [
    "import math as mp\n",
    "print(mp.sqrt(25)) \n",
    "print(mp.pow(2,4))\n",
    "print(mp.factorial(5))\n",
    "print(mp.cos(45))\n",
    "print(mp.gcd(12,18))\n",
    "print(mp.log10(100))\n",
    "print(mp.log(1000,10))\n",
    "print(mp.lcm(12, 18))\n",
    "print(mp.exp(3))\n",
    "print(mp.pi)\n",
    "print(mp.degrees(4))\n",
    "print(mp.e)\n",
    "print(mp.fabs(63.123123))\n",
    "print(mp.perm(10,20))\n",
    "\n",
    "print(mp.exp2(8))\n",
    "# print(mp.sin(radia))\n",
    "p = (1, 2)\n",
    "q = (4, 6)\n",
    "print(mp.dist(p, q))\n",
    "\n"
   ]
  },
  {
   "cell_type": "code",
   "execution_count": null,
   "id": "7f505ef7",
   "metadata": {},
   "outputs": [],
   "source": [
    "import os\n",
    "os.mkdir(\"DMDW_Experiment_1\")\n",
    "\n"
   ]
  },
  {
   "cell_type": "code",
   "execution_count": null,
   "id": "6fba5e14",
   "metadata": {},
   "outputs": [
    {
     "name": "stdout",
     "output_type": "stream",
     "text": [
      "[[1, 4, 5, 6], [8, 5, 10, 11]]\n",
      "[[ 1  4  5  6]\n",
      " [ 8  5 10 11]]\n"
     ]
    }
   ],
   "source": [
    "import numpy as np\n",
    "list1=[[1,4,5,6],[8,5,10,11]]\n",
    "print(list1)\n",
    "print(np.array(list1))\n",
    "\n"
   ]
  },
  {
   "cell_type": "code",
   "execution_count": null,
   "id": "d820df76",
   "metadata": {},
   "outputs": [
    {
     "name": "stdout",
     "output_type": "stream",
     "text": [
      "2\n",
      "[4 5 6 8]\n",
      "[array([1, 4, 5, 6]), array([ 8,  5, 10, 11])]\n",
      "[ 1  4  5  6  8  5 10 11  1  4  5  6  8  5 10 11]\n",
      "1\n",
      "6.25\n",
      "11\n",
      "5.5\n"
     ]
    },
    {
     "ename": "AttributeError",
     "evalue": "module 'numpy' has no attribute 'mode'",
     "output_type": "error",
     "traceback": [
      "\u001b[31m---------------------------------------------------------------------------\u001b[39m",
      "\u001b[31mAttributeError\u001b[39m                            Traceback (most recent call last)",
      "\u001b[36mCell\u001b[39m\u001b[36m \u001b[39m\u001b[32mIn[32]\u001b[39m\u001b[32m, line 19\u001b[39m\n\u001b[32m     17\u001b[39m \u001b[38;5;28mprint\u001b[39m(np.median(list1))\n\u001b[32m     18\u001b[39m arr=np.array([[\u001b[32m1\u001b[39m,\u001b[32m4\u001b[39m,\u001b[32m5\u001b[39m,\u001b[32m6\u001b[39m,\u001b[32m8\u001b[39m],[\u001b[32m5\u001b[39m,\u001b[32m10\u001b[39m,\u001b[32m11\u001b[39m,\u001b[32m3\u001b[39m,\u001b[32m34\u001b[39m]])\n\u001b[32m---> \u001b[39m\u001b[32m19\u001b[39m \u001b[38;5;28mprint\u001b[39m(\u001b[43mnp\u001b[49m\u001b[43m.\u001b[49m\u001b[43mmode\u001b[49m(arr))\n",
      "\u001b[36mFile \u001b[39m\u001b[32m~\\AppData\\Roaming\\Python\\Python313\\site-packages\\numpy\\__init__.py:808\u001b[39m, in \u001b[36m__getattr__\u001b[39m\u001b[34m(attr)\u001b[39m\n\u001b[32m    805\u001b[39m     \u001b[38;5;28;01mimport\u001b[39;00m\u001b[38;5;250m \u001b[39m\u001b[34;01mnumpy\u001b[39;00m\u001b[34;01m.\u001b[39;00m\u001b[34;01mchar\u001b[39;00m\u001b[38;5;250m \u001b[39m\u001b[38;5;28;01mas\u001b[39;00m\u001b[38;5;250m \u001b[39m\u001b[34;01mchar\u001b[39;00m\n\u001b[32m    806\u001b[39m     \u001b[38;5;28;01mreturn\u001b[39;00m char.chararray\n\u001b[32m--> \u001b[39m\u001b[32m808\u001b[39m \u001b[38;5;28;01mraise\u001b[39;00m \u001b[38;5;167;01mAttributeError\u001b[39;00m(\u001b[33mf\u001b[39m\u001b[33m\"\u001b[39m\u001b[33mmodule \u001b[39m\u001b[38;5;132;01m{\u001b[39;00m\u001b[34m__name__\u001b[39m\u001b[38;5;132;01m!r}\u001b[39;00m\u001b[33m has no attribute \u001b[39m\u001b[38;5;132;01m{\u001b[39;00mattr\u001b[38;5;132;01m!r}\u001b[39;00m\u001b[33m\"\u001b[39m)\n",
      "\u001b[31mAttributeError\u001b[39m: module 'numpy' has no attribute 'mode'"
     ]
    }
   ],
   "source": [
    "import numpy as np\n",
    "list1=np.array([1,4,5,6,8,5,10,11])\n",
    "\n",
    "print(np.searchsorted(list1,5))\n",
    "#1 slicing array\n",
    "print(list1[1:5])\n",
    "# 2 splitting array\n",
    "split=np.split(list1,2)\n",
    "print(split)\n",
    "# 3 combining array\n",
    "combined=np.concatenate((list1,list1))\n",
    "print(combined)\n",
    "# 4 mean,max,median,mode\n",
    "print(np.min(list1))\n",
    "print(np.mean(list1))\n",
    "print(np.max(list1))\n",
    "print(np.median(list1))\n",
    "arr=np.array([[1,4,5,6,8],[5,10,11,3,34]])\n",
    "print(np.mode(arr))\n"
   ]
  },
  {
   "cell_type": "markdown",
   "id": "9a0b9e9c",
   "metadata": {},
   "source": [
    "\"\"\"\n",
    "2.1 Numpy \n",
    "Problem: Given a list of numbers [2, 4, 6, 8, 10, 12, 14, 16], perform the following tasks using NumPy \n",
    "functions: \n",
    "Create a NumPy array from the given list. \n",
    "Calculate the mean, median, and standard deviation of the array. \n",
    "Reshape the array into a 2x4 matrix. \n",
    "Calculate the element-wise square root of the array. \n",
    "Find the index of the maximum element in the array. \n",
    "Create a new array containing only the elements greater than 8.\n",
    "\"\"\""
   ]
  },
  {
   "cell_type": "code",
   "execution_count": 36,
   "id": "4a1c66ac",
   "metadata": {},
   "outputs": [
    {
     "name": "stdout",
     "output_type": "stream",
     "text": [
      "[ 2  4  6  8 10 12 14 16]\n",
      "9.0\n",
      "2\n",
      "16\n",
      "4.58257569495584\n",
      "[[ 2  4  6  8]\n",
      " [10 12 14 16]]\n",
      "[1.41421356 2.         2.44948974 2.82842712 3.16227766 3.46410162\n",
      " 3.74165739 4.        ]\n",
      "7\n",
      "[10 12 14 16]\n"
     ]
    }
   ],
   "source": [
    "list_numbers=[2, 4, 6, 8, 10, 12, 14, 16]\n",
    "arr=np.array(list_numbers)\n",
    "print(arr)\n",
    "\n",
    "print(np.mean(arr))\n",
    "print(np.min(arr))\n",
    "print(np.max(arr))\n",
    "print(np.std(arr))\n",
    "\n",
    "print(np.reshape(arr,(2,4)))\n",
    "\n",
    "print(np.sqrt(arr))\n",
    "print(np.argmax(arr))\n",
    "print(arr[arr>8])"
   ]
  },
  {
   "cell_type": "code",
   "execution_count": 38,
   "id": "52aacf73",
   "metadata": {},
   "outputs": [
    {
     "name": "stdout",
     "output_type": "stream",
     "text": [
      "Ram     48\n",
      "Hari    52\n",
      "Som     19\n",
      "dtype: int64\n"
     ]
    }
   ],
   "source": [
    "import pandas as pd\n",
    "age=np.array([48,52,19])\n",
    "# series1=pd.Series(age)\n",
    "series1=pd.Series(age,index=['Ram','Hari','Som'])\n",
    "print(series1)"
   ]
  },
  {
   "cell_type": "code",
   "execution_count": null,
   "id": "d07be1d7",
   "metadata": {},
   "outputs": [],
   "source": [
    "dataF=pd.DataFrame(['Ram',30,'ECE'],\n",
    "                    ['Situ',45,'CSE'],\n",
    "                    ['Ram',30,'AIML']\n",
    "                    )\n",
    "colums=['Name','Age','Address']\n",
    "dataF.set_index('')"
   ]
  }
 ],
 "metadata": {
  "kernelspec": {
   "display_name": "Python 3",
   "language": "python",
   "name": "python3"
  },
  "language_info": {
   "codemirror_mode": {
    "name": "ipython",
    "version": 3
   },
   "file_extension": ".py",
   "mimetype": "text/x-python",
   "name": "python",
   "nbconvert_exporter": "python",
   "pygments_lexer": "ipython3",
   "version": "3.13.5"
  }
 },
 "nbformat": 4,
 "nbformat_minor": 5
}
