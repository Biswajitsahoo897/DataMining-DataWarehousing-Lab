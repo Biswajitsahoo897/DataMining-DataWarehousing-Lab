{
 "cells": [
  {
   "cell_type": "markdown",
   "id": "f858f9f4",
   "metadata": {},
   "source": [
    "### Numpy"
   ]
  },
  {
   "cell_type": "code",
   "execution_count": 15,
   "id": "f2e4c08c",
   "metadata": {},
   "outputs": [
    {
     "name": "stdout",
     "output_type": "stream",
     "text": [
      "[ 2  4  6  8 10 12 14 16]\n"
     ]
    }
   ],
   "source": [
    "import numpy as np\n",
    "list_numbers=[2, 4, 6, 8, 10, 12, 14, 16]\n",
    "# 1\n",
    "res=np.array(list_numbers)\n",
    "print(res)"
   ]
  },
  {
   "cell_type": "code",
   "execution_count": 16,
   "id": "f39a9b90",
   "metadata": {},
   "outputs": [
    {
     "name": "stdout",
     "output_type": "stream",
     "text": [
      "256\n",
      "0\n",
      "256\n"
     ]
    }
   ],
   "source": [
    "n=2**8\n",
    "print(n)\n",
    "temp=0\n",
    "for i in range(1,8):\n",
    "    temp*=2*i\n",
    "print(temp)\n",
    "print(pow(2,8))\n",
    "\n"
   ]
  },
  {
   "cell_type": "code",
   "execution_count": 17,
   "id": "10446443",
   "metadata": {},
   "outputs": [
    {
     "name": "stdout",
     "output_type": "stream",
     "text": [
      "5.0\n",
      "16.0\n",
      "120\n",
      "0.5253219888177297\n",
      "6\n",
      "2.0\n",
      "2.9999999999999996\n",
      "36\n",
      "20.085536923187668\n",
      "3.141592653589793\n",
      "229.1831180523293\n",
      "2.718281828459045\n",
      "63.123123\n",
      "0\n",
      "256.0\n",
      "5.0\n"
     ]
    }
   ],
   "source": [
    "import math as mp\n",
    "print(mp.sqrt(25)) \n",
    "print(mp.pow(2,4))\n",
    "print(mp.factorial(5))\n",
    "print(mp.cos(45))\n",
    "print(mp.gcd(12,18))\n",
    "print(mp.log10(100))\n",
    "print(mp.log(1000,10))\n",
    "print(mp.lcm(12, 18))\n",
    "print(mp.exp(3))\n",
    "print(mp.pi)\n",
    "print(mp.degrees(4))\n",
    "print(mp.e)\n",
    "print(mp.fabs(63.123123))\n",
    "print(mp.perm(10,20))\n",
    "\n",
    "print(mp.exp2(8))\n",
    "# print(mp.sin(radia))\n",
    "p = (1, 2)\n",
    "q = (4, 6)\n",
    "print(mp.dist(p, q))\n",
    "\n"
   ]
  },
  {
   "cell_type": "code",
   "execution_count": 19,
   "id": "7f505ef7",
   "metadata": {},
   "outputs": [],
   "source": [
    "import os\n",
    "os.mkdir(\"DMDW_Experiment_1\")\n",
    "\n"
   ]
  },
  {
   "cell_type": "code",
   "execution_count": 12,
   "id": "6fba5e14",
   "metadata": {},
   "outputs": [
    {
     "name": "stdout",
     "output_type": "stream",
     "text": [
      "[[1, 4, 5, 6], [8, 5, 10, 11]]\n",
      "[[ 1  4  5  6]\n",
      " [ 8  5 10 11]]\n"
     ]
    }
   ],
   "source": [
    "import numpy as np\n",
    "list1=[[1,4,5,6],[8,5,10,11]]\n",
    "print(list1)\n",
    "print(np.array(list1))\n",
    "\n"
   ]
  },
  {
   "cell_type": "code",
   "execution_count": 11,
   "id": "d820df76",
   "metadata": {},
   "outputs": [
    {
     "name": "stdout",
     "output_type": "stream",
     "text": [
      "2\n",
      "[4 5 6 8]\n",
      "[array([1, 4, 5, 6]), array([ 8,  5, 10, 11])]\n",
      "[ 1  4  5  6  8  5 10 11  1  4  5  6  8  5 10 11]\n",
      "1\n",
      "6.25\n",
      "11\n",
      "5.5\n",
      "ModeResult(mode=array([[5]]), count=array([[2]]))\n"
     ]
    }
   ],
   "source": [
    "import numpy as np\n",
    "from scipy import stats\n",
    "list1=np.array([1,4,5,6,8,5,10,11])\n",
    "\n",
    "print(np.searchsorted(list1,5))\n",
    "#1 slicing array\n",
    "print(list1[1:5])\n",
    "# 2 splitting array\n",
    "split=np.split(list1,2)\n",
    "print(split)\n",
    "# 3 combining array\n",
    "combined=np.concatenate((list1,list1))\n",
    "print(combined)\n",
    "# 4 mean,max,median,mode\n",
    "print(np.min(list1))\n",
    "print(np.mean(list1))\n",
    "print(np.max(list1))\n",
    "print(np.median(list1))\n",
    "\n",
    "arr = np.array([[1, 4, 5, 6, 8], [5, 10, 11, 3, 34]])\n",
    "print(stats.mode(arr, axis=None, keepdims=True))\n"
   ]
  },
  {
   "cell_type": "markdown",
   "id": "9a0b9e9c",
   "metadata": {},
   "source": [
    "\"\"\"\n",
    "2.1 Numpy \n",
    "Problem: Given a list of numbers [2, 4, 6, 8, 10, 12, 14, 16], perform the following tasks using NumPy \n",
    "functions: \n",
    "Create a NumPy array from the given list. \n",
    "Calculate the mean, median, and standard deviation of the array. \n",
    "Reshape the array into a 2x4 matrix. \n",
    "Calculate the element-wise square root of the array. \n",
    "Find the index of the maximum element in the array. \n",
    "Create a new array containing only the elements greater than 8.\n",
    "\"\"\""
   ]
  },
  {
   "cell_type": "code",
   "execution_count": 9,
   "id": "4a1c66ac",
   "metadata": {},
   "outputs": [
    {
     "name": "stdout",
     "output_type": "stream",
     "text": [
      "[ 2  4  6  8 10 12 14 16]\n",
      "9.0\n",
      "2\n",
      "16\n",
      "4.58257569495584\n",
      "[[ 2  4  6  8]\n",
      " [10 12 14 16]]\n",
      "[1.41421356 2.         2.44948974 2.82842712 3.16227766 3.46410162\n",
      " 3.74165739 4.        ]\n",
      "7\n",
      "[10 12 14 16]\n"
     ]
    }
   ],
   "source": [
    "import numpy as np\n",
    "list_numbers=[2, 4, 6, 8, 10, 12, 14, 16]\n",
    "\n",
    "arr=np.array(list_numbers)\n",
    "print(arr)\n",
    "\n",
    "print(np.mean(arr))\n",
    "print(np.min(arr))\n",
    "print(np.max(arr))\n",
    "print(np.std(arr))\n",
    "\n",
    "print(np.reshape(arr,(2,4)))\n",
    "\n",
    "print(np.sqrt(arr))\n",
    "print(np.argmax(arr))\n",
    "print(arr[arr>8])"
   ]
  },
  {
   "cell_type": "code",
   "execution_count": 7,
   "id": "52aacf73",
   "metadata": {},
   "outputs": [
    {
     "name": "stdout",
     "output_type": "stream",
     "text": [
      "Ram     48\n",
      "Hari    52\n",
      "Som     19\n",
      "dtype: int64\n"
     ]
    }
   ],
   "source": [
    "import pandas as pd\n",
    "import numpy as np\n",
    "age=np.array([48,52,19])\n",
    "# series1=pd.Series(age)\n",
    "series1=pd.Series(age,index=['Ram','Hari','Som'])\n",
    "print(series1)"
   ]
  },
  {
   "cell_type": "code",
   "execution_count": 8,
   "id": "d07be1d7",
   "metadata": {},
   "outputs": [
    {
     "name": "stdout",
     "output_type": "stream",
     "text": [
      "Original DataFrame (Before)\n",
      "    Name  Age Department\n",
      "0   Ram   30        ECE\n",
      "1  Situ   45        CSE\n",
      "2   Ram   30       AIML\n",
      "\n",
      "DataFrame with 'Name' as an index\n",
      "      Age Department\n",
      "Name                \n",
      "Ram    30        ECE\n",
      "Situ   45        CSE\n",
      "Ram    30       AIML\n"
     ]
    }
   ],
   "source": [
    "import pandas as pd\n",
    "data=[['Ram',30,'ECE'],['Situ',45,'CSE'],['Ram',30,'AIML']]\n",
    "columns = ['Name', 'Age', 'Department']\n",
    "dataF=pd.DataFrame(data,columns=columns)\n",
    "dataF_indexed=dataF.set_index('Name')\n",
    "print(\"Original DataFrame (Before)\\n\",dataF)\n",
    "# index is there at the starting\n",
    "print(\"\\nDataFrame with 'Name' as an index\")\n",
    "print(dataF_indexed)"
   ]
  }
 ],
 "metadata": {
  "kernelspec": {
   "display_name": ".venv",
   "language": "python",
   "name": "python3"
  },
  "language_info": {
   "codemirror_mode": {
    "name": "ipython",
    "version": 3
   },
   "file_extension": ".py",
   "mimetype": "text/x-python",
   "name": "python",
   "nbconvert_exporter": "python",
   "pygments_lexer": "ipython3",
   "version": "3.12.3"
  }
 },
 "nbformat": 4,
 "nbformat_minor": 5
}
